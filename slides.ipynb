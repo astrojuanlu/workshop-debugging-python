{
 "cells": [
  {
   "cell_type": "markdown",
   "id": "9fe85270-e3f7-4dd3-a4f5-c501969fdebd",
   "metadata": {
    "editable": true,
    "slideshow": {
     "slide_type": "slide"
    },
    "tags": []
   },
   "source": [
    "# Into the rabbit hole: Debugging in Python"
   ]
  },
  {
   "cell_type": "markdown",
   "id": "0c3e0302-9d7d-4665-b061-835c360e7e34",
   "metadata": {
    "editable": true,
    "slideshow": {
     "slide_type": "slide"
    },
    "tags": []
   },
   "source": [
    "## Outline\n",
    "\n",
    "1. Why debugging is important\n",
    "2. Sources of bugs\n",
    "3. Types of debugging: tracing vs interactive\n",
    "4. Debugging is problem solving: divide and conquer, hypothesis testing\n",
    "5. Think of your future self\n",
    "6. Practical debugging in Jupyter\n",
    "7. Practical debugging in VSCode\n",
    "8. Conclusions"
   ]
  },
  {
   "cell_type": "markdown",
   "id": "979b86db-2e6f-43b4-8967-152d1b91a96d",
   "metadata": {
    "editable": true,
    "slideshow": {
     "slide_type": "slide"
    },
    "tags": []
   },
   "source": [
    "## 1. Why debugging is important\n",
    "\n",
    "...Because you will spend _a lot_ of your coding time doing it!\n",
    "\n",
    "> \"75% of a developer’s time is spent on debugging (1500 hours a year!)\"\n",
    "\n",
    "https://coralogix.com/blog/this-is-what-your-developers-are-doing-75-of-the-time-and-this-is-the-cost-you-pay/\n",
    "\n",
    "> \"I spend 80% of my time debugging, fixing small things to get everything working.\"\n",
    "\n",
    "https://softwareengineering.stackexchange.com/q/117123"
   ]
  },
  {
   "cell_type": "markdown",
   "id": "17b738ca-b03b-43e8-8079-86ff5e7b447a",
   "metadata": {
    "editable": true,
    "slideshow": {
     "slide_type": "subslide"
    },
    "tags": []
   },
   "source": [
    "> \"Debugging consumes about 30-90 % of the total development time\"\n",
    "\n",
    "Hirsch, T. and Hofer, B. (2021) What we can learn from how programmers debug their code, arXiv.org. Available at: https://arxiv.org/abs/2103.12447 (Accessed: 26 September 2023). "
   ]
  },
  {
   "cell_type": "markdown",
   "id": "5e22d096-4b7e-479e-baff-4eecc51bc138",
   "metadata": {
    "editable": true,
    "slideshow": {
     "slide_type": "fragment"
    },
    "tags": []
   },
   "source": [
    "> \"Debugging was frequent, even in programming work, occurring **once every eight minutes**. Debugging episodes vary greatly in time, with most being less than a few minutes **and a few as more than 100 minutes**. However, most debugging time is spent in long debugging episodes\"\n",
    "\n",
    "[emphasis mine]\n",
    "\n",
    "Alaboudi, A. and LaToza, T.D. (2021) An exploratory study of debugging episodes, arXiv.org. Available at: https://arxiv.org/abs/2105.02162 (Accessed: 26 September 2023). "
   ]
  },
  {
   "cell_type": "markdown",
   "id": "28f24cb5-e1c0-4c34-b023-51a129577a4b",
   "metadata": {
    "editable": true,
    "slideshow": {
     "slide_type": "subslide"
    },
    "tags": []
   },
   "source": [
    "Long story short: **to become a good programmer, you will have to become a good debugger**!"
   ]
  },
  {
   "cell_type": "markdown",
   "id": "8c1d9ad3-30fa-402c-a115-7337b4bd6a20",
   "metadata": {
    "editable": true,
    "slideshow": {
     "slide_type": "slide"
    },
    "tags": []
   },
   "source": [
    "## 2. Sources of bugs\n",
    "\n",
    "![No idea why](img/no-idea-why.jpg)"
   ]
  },
  {
   "cell_type": "markdown",
   "id": "27844c5e-9493-4ae7-ac7b-77fdac501745",
   "metadata": {
    "editable": true,
    "slideshow": {
     "slide_type": "slide"
    },
    "tags": []
   },
   "source": [
    "## 3. Types of debugging: tracing vs interactive\n",
    "\n",
    "![Print debugging](img/is-this-debugging.jpg)"
   ]
  },
  {
   "attachments": {},
   "cell_type": "markdown",
   "id": "6b67c8df-8dd4-4b08-8b49-98f89c44d6fa",
   "metadata": {
    "editable": true,
    "slideshow": {
     "slide_type": "subslide"
    },
    "tags": []
   },
   "source": [
    "**Tracing**: Watch program logs to analyze flow of execution and detect problems.\n",
    "\n",
    "- ...also known as \"print debugging\"\n",
    "- `print` is fine for debugging, often better than nothing!\n",
    "- For a better experience, use `logging` (standard library) or `structlog` instead:"
   ]
  },
  {
   "cell_type": "code",
   "execution_count": 1,
   "id": "5b553a9c-a684-4045-847b-63dfd0280faf",
   "metadata": {
    "editable": true,
    "slideshow": {
     "slide_type": "fragment"
    },
    "tags": []
   },
   "outputs": [
    {
     "name": "stdout",
     "output_type": "stream",
     "text": [
      "\u001b[2m2023-09-26 11:05:04\u001b[0m [\u001b[32m\u001b[1minfo     \u001b[0m] \u001b[1mAttempting execution\u001b[0m\n",
      "\u001b[2m2023-09-26 11:05:04\u001b[0m [\u001b[33m\u001b[1mwarning  \u001b[0m] \u001b[1mUnexpected condition, proceeding anyway\u001b[0m\n",
      "\u001b[2m2023-09-26 11:05:04\u001b[0m [\u001b[31m\u001b[1merror    \u001b[0m] \u001b[1mSomething broke, pay attention here\u001b[0m \u001b[36mlogger_obj\u001b[0m=\u001b[35m<BoundLoggerLazyProxy(logger=None, wrapper_class=None, processors=None, context_class=None, initial_values={}, logger_factory_args=())>\u001b[0m\n"
     ]
    }
   ],
   "source": [
    "import structlog\n",
    "\n",
    "logger = structlog.get_logger()\n",
    "\n",
    "logger.info(\"Attempting execution\")\n",
    "logger.warning(\"Unexpected condition, proceeding anyway\")\n",
    "logger.error(\"Something broke, pay attention here\", logger_obj=logger)"
   ]
  },
  {
   "attachments": {},
   "cell_type": "markdown",
   "id": "07e85336-ecc6-4e3f-9116-5ed45f8e2fd1",
   "metadata": {
    "editable": true,
    "slideshow": {
     "slide_type": "subslide"
    },
    "tags": []
   },
   "source": [
    "**Interactive** debugging: Advance program execution step by step and query the state of the program.\n",
    "\n",
    "- If the code has no logs, there is no alternative\n",
    "- But if your program is running in a remote location, is a long-running process, or executes when you're sleeping, it might be really hard or impossible!\n",
    "- Python ships with a primitive debugger, your IDE (modern Jupyter, VSCode) has a much better one"
   ]
  },
  {
   "attachments": {},
   "cell_type": "markdown",
   "id": "dc03b71d-d4f8-46aa-93a0-71c40fe47511",
   "metadata": {
    "editable": true,
    "slideshow": {
     "slide_type": "slide"
    },
    "tags": []
   },
   "source": [
    "## 4. Debugging is problem solving\n",
    "\n",
    "![Useless comments](img/useless-code-comments.jpg)"
   ]
  },
  {
   "cell_type": "markdown",
   "id": "34ccc420-d938-47f6-b783-c5a98842fe5e",
   "metadata": {
    "editable": true,
    "slideshow": {
     "slide_type": "subslide"
    },
    "tags": []
   },
   "source": [
    "### Divide and conquer\n",
    "\n",
    "### Hypothesis testing"
   ]
  },
  {
   "cell_type": "markdown",
   "id": "faebdba1-4fe9-4411-a0fa-3e6576a4881e",
   "metadata": {
    "editable": true,
    "slideshow": {
     "slide_type": "slide"
    },
    "tags": []
   },
   "source": [
    "## 5. Think of your future self\n",
    "\n",
    "![Joke's on you](img/jokes-on-you.png)"
   ]
  },
  {
   "cell_type": "markdown",
   "id": "727f9cde-a911-4f48-970c-9c93be379592",
   "metadata": {
    "editable": true,
    "slideshow": {
     "slide_type": "subslide"
    },
    "tags": []
   },
   "source": [
    "> _\"Always code as if the guy who ends up maintaining your code will be a violent psychopath who knows where you live. Code for readability.\"_\n",
    "\n",
    "You **will** need to debug your code. Plan accordingly.\n",
    "\n",
    "- Invest time in mastering your tools\n",
    "  - Don't let anyone mock you for your editor/IDE of choice (avoid religious wars)\n",
    "  - If your editor is not helping you, improve it, extend it, or find another one!\n",
    "- Use meaningful variable names (code is written once, read many times!)\n",
    "- Write comments that communicate _intent_ (\"why?\") rather than just describe what the code does\n",
    "- Add logs (if `structlog` is not available, plain `logging` is fine)\n",
    "- Structure your code in functions and place side effects carefully https://rhodesmill.org/brandon/slides/2015-05-pywaw/hoist/"
   ]
  },
  {
   "cell_type": "markdown",
   "id": "78de3b19-641d-4a03-9a09-dc8059836f19",
   "metadata": {
    "editable": true,
    "slideshow": {
     "slide_type": "slide"
    },
    "tags": []
   },
   "source": [
    "## 6. Practical debugging in Jupyter"
   ]
  },
  {
   "cell_type": "markdown",
   "id": "f888897c-d405-4468-b777-63092d2d51cc",
   "metadata": {
    "editable": true,
    "slideshow": {
     "slide_type": "slide"
    },
    "tags": []
   },
   "source": [
    "## 7. Practical debugging in VSCode"
   ]
  },
  {
   "cell_type": "markdown",
   "id": "2e028552-39e6-4c81-a43e-0080de891fe7",
   "metadata": {
    "editable": true,
    "slideshow": {
     "slide_type": "slide"
    },
    "tags": []
   },
   "source": [
    "## 8. Conclusions"
   ]
  }
 ],
 "metadata": {
  "ipyflow": {
   "cell_children": {
    "01205cc3-0fe6-4378-bb4a-65b5db16b63b": [],
    "0b18c2d1-986a-4e23-b45f-2f0e4c4dfaf9": [],
    "5b553a9c-a684-4045-847b-63dfd0280faf": [],
    "5f12520b-8e81-41cc-80cb-0e0f52fd0208": [
     "f8213d32-0367-4387-b62e-c9bb67b6053d"
    ],
    "640cc309-449c-427c-8f01-6f4ac9df5164": [
     "ee512358-860c-4ee4-808a-b7256e1f6304",
     "b7c5802d-8f97-404c-ac51-6e6b3429920c"
    ],
    "aa4e159b-d148-41e5-bb09-066a1d2f6d8f": [],
    "b7c5802d-8f97-404c-ac51-6e6b3429920c": [],
    "bd0de3c9-6f7d-4dc0-831e-596f7df18e7b": [
     "640cc309-449c-427c-8f01-6f4ac9df5164"
    ],
    "c52ca7c1-14bd-435d-a264-ebd88760b093": [],
    "ee512358-860c-4ee4-808a-b7256e1f6304": [
     "c52ca7c1-14bd-435d-a264-ebd88760b093"
    ],
    "f8213d32-0367-4387-b62e-c9bb67b6053d": []
   },
   "cell_parents": {
    "01205cc3-0fe6-4378-bb4a-65b5db16b63b": [],
    "0b18c2d1-986a-4e23-b45f-2f0e4c4dfaf9": [],
    "5b553a9c-a684-4045-847b-63dfd0280faf": [],
    "5f12520b-8e81-41cc-80cb-0e0f52fd0208": [],
    "640cc309-449c-427c-8f01-6f4ac9df5164": [
     "bd0de3c9-6f7d-4dc0-831e-596f7df18e7b"
    ],
    "aa4e159b-d148-41e5-bb09-066a1d2f6d8f": [],
    "b7c5802d-8f97-404c-ac51-6e6b3429920c": [
     "640cc309-449c-427c-8f01-6f4ac9df5164"
    ],
    "bd0de3c9-6f7d-4dc0-831e-596f7df18e7b": [],
    "c52ca7c1-14bd-435d-a264-ebd88760b093": [
     "ee512358-860c-4ee4-808a-b7256e1f6304"
    ],
    "ee512358-860c-4ee4-808a-b7256e1f6304": [
     "640cc309-449c-427c-8f01-6f4ac9df5164"
    ],
    "f8213d32-0367-4387-b62e-c9bb67b6053d": [
     "5f12520b-8e81-41cc-80cb-0e0f52fd0208"
    ]
   }
  },
  "kernelspec": {
   "display_name": "Python 3 (ipyflow)",
   "language": "python",
   "name": "ipyflow"
  },
  "language_info": {
   "codemirror_mode": {
    "name": "ipython",
    "version": 3
   },
   "file_extension": ".py",
   "mimetype": "text/x-python",
   "name": "python",
   "nbconvert_exporter": "python",
   "pygments_lexer": "ipython3",
   "version": "3.11.4"
  },
  "widgets": {
   "application/vnd.jupyter.widget-state+json": {
    "state": {},
    "version_major": 2,
    "version_minor": 0
   }
  }
 },
 "nbformat": 4,
 "nbformat_minor": 5
}
