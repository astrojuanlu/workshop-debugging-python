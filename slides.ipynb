{
 "cells": [
  {
   "cell_type": "markdown",
   "id": "9fe85270-e3f7-4dd3-a4f5-c501969fdebd",
   "metadata": {
    "editable": true,
    "slideshow": {
     "slide_type": "slide"
    },
    "tags": []
   },
   "source": [
    "# Into the rabbit hole: Debugging in Python\n",
    "\n",
    "![Rabbit hole](./img/rabbit-hole.gif)\n",
    "\n",
    "<h2 style=\"text-align: right;font-size: 1em;\">Juan Luis Cano Rodríguez &lt;hello@juanlu.space&gt;<br>2023-09-26 @ Data Umbrella</h2>"
   ]
  },
  {
   "cell_type": "markdown",
   "id": "0c3e0302-9d7d-4665-b061-835c360e7e34",
   "metadata": {
    "editable": true,
    "slideshow": {
     "slide_type": "slide"
    },
    "tags": []
   },
   "source": [
    "## Outline\n",
    "\n",
    "1. Why debugging is important\n",
    "2. Sources of bugs\n",
    "3. Types of debugging: tracing vs interactive\n",
    "4. Debugging is problem solving: divide and conquer, hypothesis testing\n",
    "5. Think of your future self\n",
    "6. Practical debugging in Jupyter\n",
    "7. Practical debugging in VSCode\n",
    "8. Conclusions"
   ]
  },
  {
   "cell_type": "markdown",
   "id": "cbd953bb-551a-4a8e-a834-ff670b00d90a",
   "metadata": {
    "editable": true,
    "slideshow": {
     "slide_type": "slide"
    },
    "tags": []
   },
   "source": [
    "_Raise your hand if you had to debug some code for much longer than expected_ 🙌"
   ]
  },
  {
   "cell_type": "markdown",
   "id": "486287b3-d6a3-4d5d-af79-5290adc23a47",
   "metadata": {
    "editable": true,
    "slideshow": {
     "slide_type": "slide"
    },
    "tags": []
   },
   "source": [
    "## Who is this guy?\n",
    "\n",
    "- Aerospace Engineer turned coder turned developer advocate turned...\n",
    "- Passionate about tech communities and the **Solidarity Economy** ♻️\n",
    "- **Product Manager** for Kedro, an open source pipeline framework, at QuantumBlack, AI by McKinsey 🔶\n",
    "- Organizer of the **PyData Madrid** monthly meetup (ex Python España, ex PyCon Spain) 🐍\n",
    "- Contributor to the SciPy and PyData ecosystem\n",
    "\n",
    "Let's connect! https://www.linkedin.com/in/juanluiscanor/\n",
    "\n",
    "![Me](img/juanlu-everything.jpg)"
   ]
  },
  {
   "cell_type": "markdown",
   "id": "979b86db-2e6f-43b4-8967-152d1b91a96d",
   "metadata": {
    "editable": true,
    "slideshow": {
     "slide_type": "slide"
    },
    "tags": []
   },
   "source": [
    "## 1. Why debugging is important\n",
    "\n",
    "...Because you will spend _a lot_ of your coding time doing it!\n",
    "\n",
    "> \"75% of a developer’s time is spent on debugging (1500 hours a year!)\"\n",
    "\n",
    "https://coralogix.com/blog/this-is-what-your-developers-are-doing-75-of-the-time-and-this-is-the-cost-you-pay/\n",
    "\n",
    "> \"I spend 80% of my time debugging, fixing small things to get everything working.\"\n",
    "\n",
    "https://softwareengineering.stackexchange.com/q/117123"
   ]
  },
  {
   "cell_type": "markdown",
   "id": "17b738ca-b03b-43e8-8079-86ff5e7b447a",
   "metadata": {
    "editable": true,
    "slideshow": {
     "slide_type": "subslide"
    },
    "tags": []
   },
   "source": [
    "> \"Debugging consumes about 30-90 % of the total development time\"\n",
    "\n",
    "Hirsch, T. and Hofer, B. (2021) What we can learn from how programmers debug their code, arXiv.org. Available at: https://arxiv.org/abs/2103.12447 (Accessed: 26 September 2023). "
   ]
  },
  {
   "cell_type": "markdown",
   "id": "5e22d096-4b7e-479e-baff-4eecc51bc138",
   "metadata": {
    "editable": true,
    "slideshow": {
     "slide_type": "fragment"
    },
    "tags": []
   },
   "source": [
    "> \"Debugging was frequent, even in programming work, occurring **once every eight minutes**. Debugging episodes vary greatly in time, with most being less than a few minutes **and a few as more than 100 minutes**. However, most debugging time is spent in long debugging episodes\"\n",
    "\n",
    "[emphasis mine]\n",
    "\n",
    "Alaboudi, A. and LaToza, T.D. (2021) An exploratory study of debugging episodes, arXiv.org. Available at: https://arxiv.org/abs/2105.02162 (Accessed: 26 September 2023). "
   ]
  },
  {
   "cell_type": "markdown",
   "id": "28f24cb5-e1c0-4c34-b023-51a129577a4b",
   "metadata": {
    "editable": true,
    "slideshow": {
     "slide_type": "subslide"
    },
    "tags": []
   },
   "source": [
    "Long story short: **to become a good programmer, you will have to become a good debugger**!"
   ]
  },
  {
   "cell_type": "markdown",
   "id": "8c1d9ad3-30fa-402c-a115-7337b4bd6a20",
   "metadata": {
    "editable": true,
    "slideshow": {
     "slide_type": "slide"
    },
    "tags": []
   },
   "source": [
    "## 2. Sources of bugs\n",
    "\n",
    "![No idea why](img/no-idea-why.jpg)"
   ]
  },
  {
   "cell_type": "markdown",
   "id": "890b9753-7da2-4811-86f5-58afce3c3d21",
   "metadata": {
    "editable": true,
    "slideshow": {
     "slide_type": "subslide"
    },
    "tags": []
   },
   "source": [
    "Bugs (either crashes, or unexpected behaviors) can come from everywhere. From most likely to least likely:\n",
    "\n",
    "- A defect in our own code\n",
    "- Outdated or incompatible dependencies\n",
    "- Environment (env variables, available system libraries)\n",
    "- Requirements miscommunication\n",
    "- A defect in some dependency code\n",
    "- A defect in the operating system"
   ]
  },
  {
   "cell_type": "markdown",
   "id": "8140225c-ab8f-4299-aff1-7935636cc5c8",
   "metadata": {
    "editable": true,
    "slideshow": {
     "slide_type": "fragment"
    },
    "tags": []
   },
   "source": [
    "- Cosmic rays causing bit flips (_yes, it can happen_)"
   ]
  },
  {
   "cell_type": "markdown",
   "id": "525d21c2-ae29-460c-8e3c-c0567234244e",
   "metadata": {
    "editable": true,
    "slideshow": {
     "slide_type": "fragment"
    },
    "tags": []
   },
   "source": [
    "- And many others I didn't consider!"
   ]
  },
  {
   "cell_type": "markdown",
   "id": "7e018d65-7875-415a-9751-6cb6b4541fe1",
   "metadata": {
    "editable": true,
    "slideshow": {
     "slide_type": "subslide"
    },
    "tags": []
   },
   "source": [
    "**In most cases, we will be dealing with defects in our own code.**\n",
    "\n",
    "\\*_There is an acronym for this: PEBCAK = Problem Exists Between Chair And Keyboard https://en.wiktionary.org/wiki/PEBCAK_"
   ]
  },
  {
   "cell_type": "markdown",
   "id": "27844c5e-9493-4ae7-ac7b-77fdac501745",
   "metadata": {
    "editable": true,
    "slideshow": {
     "slide_type": "slide"
    },
    "tags": []
   },
   "source": [
    "## 3. Types of debugging: tracing vs interactive\n",
    "\n",
    "![Print debugging](img/is-this-debugging.jpg)"
   ]
  },
  {
   "attachments": {},
   "cell_type": "markdown",
   "id": "6b67c8df-8dd4-4b08-8b49-98f89c44d6fa",
   "metadata": {
    "editable": true,
    "slideshow": {
     "slide_type": "subslide"
    },
    "tags": []
   },
   "source": [
    "**Tracing**: Watch program logs to analyze flow of execution and detect problems.\n",
    "\n",
    "- ...also known as \"print debugging\"\n",
    "- `print` is fine for debugging, often better than nothing!\n",
    "- For a better experience, use `logging` (standard library) or `structlog` instead:"
   ]
  },
  {
   "cell_type": "code",
   "execution_count": 1,
   "id": "5b553a9c-a684-4045-847b-63dfd0280faf",
   "metadata": {
    "editable": true,
    "slideshow": {
     "slide_type": "fragment"
    },
    "tags": []
   },
   "outputs": [
    {
     "name": "stdout",
     "output_type": "stream",
     "text": [
      "\u001b[2m2023-09-26 11:05:04\u001b[0m [\u001b[32m\u001b[1minfo     \u001b[0m] \u001b[1mAttempting execution\u001b[0m\n",
      "\u001b[2m2023-09-26 11:05:04\u001b[0m [\u001b[33m\u001b[1mwarning  \u001b[0m] \u001b[1mUnexpected condition, proceeding anyway\u001b[0m\n",
      "\u001b[2m2023-09-26 11:05:04\u001b[0m [\u001b[31m\u001b[1merror    \u001b[0m] \u001b[1mSomething broke, pay attention here\u001b[0m \u001b[36mlogger_obj\u001b[0m=\u001b[35m<BoundLoggerLazyProxy(logger=None, wrapper_class=None, processors=None, context_class=None, initial_values={}, logger_factory_args=())>\u001b[0m\n"
     ]
    }
   ],
   "source": [
    "import structlog\n",
    "\n",
    "logger = structlog.get_logger()\n",
    "\n",
    "logger.info(\"Attempting execution\")\n",
    "logger.warning(\"Unexpected condition, proceeding anyway\")\n",
    "logger.error(\"Something broke, pay attention here\", logger_obj=logger)"
   ]
  },
  {
   "attachments": {},
   "cell_type": "markdown",
   "id": "07e85336-ecc6-4e3f-9116-5ed45f8e2fd1",
   "metadata": {
    "editable": true,
    "slideshow": {
     "slide_type": "subslide"
    },
    "tags": []
   },
   "source": [
    "**Interactive** debugging: Advance program execution step by step and query the state of the program.\n",
    "\n",
    "- If the code has no logs, there is no alternative\n",
    "- But if your program is running in a remote location, is a long-running process, or executes when you're sleeping, it might be really hard or impossible!\n",
    "- Python ships with a primitive debugger, your IDE (modern Jupyter, VSCode) has a much better one"
   ]
  },
  {
   "attachments": {},
   "cell_type": "markdown",
   "id": "138bc3ae-2f75-4c98-b880-9fe511127bfc",
   "metadata": {
    "editable": true,
    "slideshow": {
     "slide_type": "subslide"
    },
    "tags": []
   },
   "source": [
    "![Jupyter debugger](img/jupyterlab-debug.png)"
   ]
  },
  {
   "attachments": {},
   "cell_type": "markdown",
   "id": "437f3095-bdaa-43b1-8474-6a0e4de96f8c",
   "metadata": {
    "editable": true,
    "slideshow": {
     "slide_type": "subslide"
    },
    "tags": []
   },
   "source": [
    "![VSCode debugger](img/vscode-debug.jpg)"
   ]
  },
  {
   "attachments": {},
   "cell_type": "markdown",
   "id": "dc03b71d-d4f8-46aa-93a0-71c40fe47511",
   "metadata": {
    "editable": true,
    "slideshow": {
     "slide_type": "slide"
    },
    "tags": []
   },
   "source": [
    "## 4. Debugging is problem solving\n",
    "\n",
    "![Useless comments](img/useless-code-comments.jpg)"
   ]
  },
  {
   "cell_type": "markdown",
   "id": "9c7bde64-f707-4361-845f-2766aaf803b6",
   "metadata": {
    "editable": true,
    "slideshow": {
     "slide_type": "subslide"
    },
    "tags": []
   },
   "source": [
    "- Computers are ~~mostly~~ deterministic!\n",
    "- What seems random _often_ has a very specific root cause\n",
    "- Lots of problem solving techniques exist that can be used while coding"
   ]
  },
  {
   "cell_type": "markdown",
   "id": "5f6fc6bd-0361-4745-813b-d7b7fae3d82e",
   "metadata": {
    "editable": true,
    "slideshow": {
     "slide_type": "subslide"
    },
    "tags": []
   },
   "source": [
    "**Divide and conquer**: \"A divide-and-conquer algorithm recursively breaks down a problem into two or more sub-problems of the same or related type, until these become simple enough to be solved directly.\"\n",
    "\n",
    "Examples:\n",
    "\n",
    "- Decomposing the code in functions and testing them in isolation\n",
    "- _Bisecting_ a commit\n",
    "- ...\n",
    "\n",
    "![git bisect](./img/git-bisect.png)"
   ]
  },
  {
   "cell_type": "markdown",
   "id": "97e67a52-13ec-4762-a42c-6e545da63616",
   "metadata": {
    "editable": true,
    "slideshow": {
     "slide_type": "subslide"
    },
    "tags": []
   },
   "source": [
    "**Hypothesis testing**: \"assuming a possible explanation to the problem and trying to prove (or, in some contexts, disprove) the assumption\"\n",
    "\n",
    "Examples:\n",
    "\n",
    "- _Hypothesis_: This bug must be caused by the `pandas` version\n",
    "- _Action_: Test the exact same code _under the exact same conditions_ but under two different `pandas` versions\n",
    "- _Possible results_:\n",
    "  - If the bug appears in both `pandas` versions, we either try another version, or think of another possible cause\n",
    "  - If the bug only appears in one `pandas` version, we have strong evidence that it could be the root cause!"
   ]
  },
  {
   "cell_type": "markdown",
   "id": "d2e07fab-2a72-4f82-a705-d8f79a8d827e",
   "metadata": {
    "editable": true,
    "slideshow": {
     "slide_type": "fragment"
    },
    "tags": []
   },
   "source": [
    "_However_, replicating the _exact same conditions_ is hard! This is a well known problem (see \"confounding factors\", \"double-blind experiments\", etc)"
   ]
  },
  {
   "cell_type": "markdown",
   "id": "06c04643-d0b1-4e34-8e89-6c100cf65971",
   "metadata": {
    "editable": true,
    "slideshow": {
     "slide_type": "subslide"
    },
    "tags": []
   },
   "source": [
    "**Reduction**: \"transforming the problem into another problem for which solutions exist\"\n",
    "\n",
    "Examples:\n",
    "\n",
    "- Crafting a Short, Self Contained, Correct Example (SSCCE) http://www.sscce.org/ (also known as Minimal Reproducible Example MRE)\n",
    "- Trying the same code with a smaller or simpler data structure\n",
    "- ..."
   ]
  },
  {
   "cell_type": "markdown",
   "id": "f60f9c8a-38c0-43f5-87d9-ab6dbdcb7011",
   "metadata": {
    "editable": true,
    "slideshow": {
     "slide_type": "subslide"
    },
    "tags": []
   },
   "source": [
    "...and one underrated technique: _reading carefully_!\n",
    "\n",
    "https://github.com/kedro-org/kedro/issues/3055\n",
    "\n",
    "![Traceback](./img/traceback.png)"
   ]
  },
  {
   "cell_type": "markdown",
   "id": "53bf973f-55f9-48a1-88df-62956711e092",
   "metadata": {
    "editable": true,
    "slideshow": {
     "slide_type": "subslide"
    },
    "tags": []
   },
   "source": [
    "![Traceback](./img/traceback-highlighted.png)"
   ]
  },
  {
   "cell_type": "markdown",
   "id": "faebdba1-4fe9-4411-a0fa-3e6576a4881e",
   "metadata": {
    "editable": true,
    "slideshow": {
     "slide_type": "slide"
    },
    "tags": []
   },
   "source": [
    "## 5. Think of your future self\n",
    "\n",
    "![Joke's on you](img/jokes-on-you.png)"
   ]
  },
  {
   "cell_type": "markdown",
   "id": "727f9cde-a911-4f48-970c-9c93be379592",
   "metadata": {
    "editable": true,
    "slideshow": {
     "slide_type": "subslide"
    },
    "tags": []
   },
   "source": [
    "> _\"Always code as if the guy who ends up maintaining your code will be a violent psychopath who knows where you live. Code for readability.\"_\n",
    "\n",
    "You **will** need to debug your code. Plan accordingly.\n",
    "\n",
    "- Invest time in mastering your tools\n",
    "  - Don't let anyone mock you for your editor/IDE of choice (avoid religious wars)\n",
    "  - If your editor is not helping you, improve it, extend it, or find another one!\n",
    "- Use meaningful variable names (code is written once, read many times!)\n",
    "- Write comments that communicate _intent_ (\"why?\") rather than just describe what the code does\n",
    "- Add logs (if `structlog` is not available, plain `logging` is fine)\n",
    "- Structure your code in functions and place side effects carefully https://rhodesmill.org/brandon/slides/2015-05-pywaw/hoist/"
   ]
  },
  {
   "cell_type": "markdown",
   "id": "78de3b19-641d-4a03-9a09-dc8059836f19",
   "metadata": {
    "editable": true,
    "slideshow": {
     "slide_type": "slide"
    },
    "tags": []
   },
   "source": [
    "## 6. Practical debugging in Jupyter\n",
    "\n",
    "- Make sure you are on the latest version! So you can enjoy\n",
    "  - Fresh notebook interface (document based, simpler than JupyterLab)\n",
    "  - Interactive debugger https://jupyterlab.readthedocs.io/en/stable/user/debugger.html\n",
    "  - Variable explorer\n",
    "  - ...and much more!\n",
    "- Recommended extra packages:\n",
    "  - `jupyterlab-lsp` and `python-lsp-server` enable advanced IDE functionalities https://github.com/jupyter-lsp/jupyterlab-lsp/blob/main/README.md\n",
    "  - `ipyflow` provides a \"reactive\" kernel (gives execution order and cell dependency hints by tracking dataflow relationships between symbols and cells) https://github.com/ipyflow/ipyflow"
   ]
  },
  {
   "cell_type": "markdown",
   "id": "f888897c-d405-4468-b777-63092d2d51cc",
   "metadata": {
    "editable": true,
    "slideshow": {
     "slide_type": "slide"
    },
    "tags": []
   },
   "source": [
    "## 7. Practical debugging in VSCode\n",
    "\n",
    "- Make sure to install the official extension https://code.visualstudio.com/docs/languages/python\n",
    "- Always use a (native or conda) environment and make sure you select it https://code.visualstudio.com/docs/python/environments\n",
    "- Learn how debugging configurations work https://code.visualstudio.com/docs/python/debugging"
   ]
  },
  {
   "cell_type": "markdown",
   "id": "2e028552-39e6-4c81-a43e-0080de891fe7",
   "metadata": {
    "editable": true,
    "slideshow": {
     "slide_type": "slide"
    },
    "tags": []
   },
   "source": [
    "## 8. Conclusions\n",
    "\n",
    "- You will spend _most_ of your coding time debugging\n",
    "- Sharpen your tools and make a deliberate effort to get better at it!\n",
    "- Apply problem solving techniques to avoid getting stuck\n",
    "- Write useful comments and add informative logging to make life easier to your future self\n",
    "\n",
    "Happy coding!\n",
    "\n",
    "<h2 style=\"text-align: right;font-size: 1em;\">Juan Luis Cano Rodríguez &lt;hello@juanlu.space&gt;<br>2023-09-26 @ Data Umbrella</h2>"
   ]
  }
 ],
 "metadata": {
  "ipyflow": {
   "cell_children": {
    "01205cc3-0fe6-4378-bb4a-65b5db16b63b": [],
    "0b18c2d1-986a-4e23-b45f-2f0e4c4dfaf9": [],
    "5b553a9c-a684-4045-847b-63dfd0280faf": [],
    "5f12520b-8e81-41cc-80cb-0e0f52fd0208": [
     "f8213d32-0367-4387-b62e-c9bb67b6053d"
    ],
    "640cc309-449c-427c-8f01-6f4ac9df5164": [
     "ee512358-860c-4ee4-808a-b7256e1f6304",
     "b7c5802d-8f97-404c-ac51-6e6b3429920c"
    ],
    "aa093b1b-ce69-484b-b29c-aa366fa348eb": [],
    "aa4e159b-d148-41e5-bb09-066a1d2f6d8f": [],
    "b7c5802d-8f97-404c-ac51-6e6b3429920c": [],
    "bd0de3c9-6f7d-4dc0-831e-596f7df18e7b": [
     "640cc309-449c-427c-8f01-6f4ac9df5164"
    ],
    "c52ca7c1-14bd-435d-a264-ebd88760b093": [],
    "ee512358-860c-4ee4-808a-b7256e1f6304": [
     "c52ca7c1-14bd-435d-a264-ebd88760b093"
    ],
    "f8213d32-0367-4387-b62e-c9bb67b6053d": []
   },
   "cell_parents": {
    "01205cc3-0fe6-4378-bb4a-65b5db16b63b": [],
    "0b18c2d1-986a-4e23-b45f-2f0e4c4dfaf9": [],
    "5b553a9c-a684-4045-847b-63dfd0280faf": [],
    "5f12520b-8e81-41cc-80cb-0e0f52fd0208": [],
    "640cc309-449c-427c-8f01-6f4ac9df5164": [
     "bd0de3c9-6f7d-4dc0-831e-596f7df18e7b"
    ],
    "aa093b1b-ce69-484b-b29c-aa366fa348eb": [],
    "aa4e159b-d148-41e5-bb09-066a1d2f6d8f": [],
    "b7c5802d-8f97-404c-ac51-6e6b3429920c": [
     "640cc309-449c-427c-8f01-6f4ac9df5164"
    ],
    "bd0de3c9-6f7d-4dc0-831e-596f7df18e7b": [],
    "c52ca7c1-14bd-435d-a264-ebd88760b093": [
     "ee512358-860c-4ee4-808a-b7256e1f6304"
    ],
    "ee512358-860c-4ee4-808a-b7256e1f6304": [
     "640cc309-449c-427c-8f01-6f4ac9df5164"
    ],
    "f8213d32-0367-4387-b62e-c9bb67b6053d": [
     "5f12520b-8e81-41cc-80cb-0e0f52fd0208"
    ]
   }
  },
  "kernelspec": {
   "display_name": "Python 3 (ipyflow)",
   "language": "python",
   "name": "ipyflow"
  },
  "language_info": {
   "codemirror_mode": {
    "name": "ipython",
    "version": 3
   },
   "file_extension": ".py",
   "mimetype": "text/x-python",
   "name": "python",
   "nbconvert_exporter": "python",
   "pygments_lexer": "ipython3",
   "version": "3.11.4"
  },
  "widgets": {
   "application/vnd.jupyter.widget-state+json": {
    "state": {},
    "version_major": 2,
    "version_minor": 0
   }
  }
 },
 "nbformat": 4,
 "nbformat_minor": 5
}
